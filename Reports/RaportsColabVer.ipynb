{
 "cells": [
  {
   "cell_type": "markdown",
   "id": "Uh0PatURaqXI",
   "metadata": {
    "id": "Uh0PatURaqXI"
   },
   "source": [
    "# Report processing (colab version)\n",
    "Test version for 6 subcontractors"
   ]
  },
  {
   "cell_type": "markdown",
   "id": "yKvvhsA2M_KA",
   "metadata": {
    "id": "yKvvhsA2M_KA"
   },
   "source": [
    "# Importing libraries"
   ]
  },
  {
   "cell_type": "code",
   "execution_count": null,
   "id": "f1a6fe06",
   "metadata": {
    "colab": {
     "base_uri": "https://localhost:8080/",
     "height": 35
    },
    "id": "f1a6fe06",
    "outputId": "f62780b0-8a99-413d-ce49-f8fc460c7b8b"
   },
   "outputs": [
    {
     "data": {
      "application/vnd.google.colaboratory.intrinsic+json": {
       "type": "string"
      },
      "text/plain": [
       "'/content'"
      ]
     },
     "execution_count": 25,
     "metadata": {},
     "output_type": "execute_result"
    }
   ],
   "source": [
    "import numpy as np\n",
    "import os\n",
    "import pandas as pd\n",
    "os.getcwd()"
   ]
  },
  {
   "cell_type": "markdown",
   "id": "LLNo4dYkNHP7",
   "metadata": {
    "id": "LLNo4dYkNHP7"
   },
   "source": [
    "# Importing xlsx files"
   ]
  },
  {
   "cell_type": "code",
   "execution_count": null,
   "id": "pNNYljnWGrFr",
   "metadata": {
    "colab": {
     "base_uri": "https://localhost:8080/",
     "height": 455,
     "resources": {
      "http://localhost:8080/nbextensions/google.colab/files.js": {
       "data": "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",
       "headers": [
        [
         "content-type",
         "application/javascript"
        ]
       ],
       "ok": true,
       "status": 200,
       "status_text": ""
      }
     }
    },
    "id": "pNNYljnWGrFr",
    "outputId": "bac53e3f-aba9-4566-b776-e1c8e0697ead"
   },
   "outputs": [
    {
     "data": {
      "text/html": [
       "\n",
       "     <input type=\"file\" id=\"files-5f5cc6bd-abe9-439b-b8af-b994e07329fb\" name=\"files[]\" multiple disabled\n",
       "        style=\"border:none\" />\n",
       "     <output id=\"result-5f5cc6bd-abe9-439b-b8af-b994e07329fb\">\n",
       "      Upload widget is only available when the cell has been executed in the\n",
       "      current browser session. Please rerun this cell to enable.\n",
       "      </output>\n",
       "      <script src=\"/nbextensions/google.colab/files.js\"></script> "
      ],
      "text/plain": [
       "<IPython.core.display.HTML object>"
      ]
     },
     "metadata": {},
     "output_type": "display_data"
    },
    {
     "name": "stdout",
     "output_type": "stream",
     "text": [
      "Saving 2021-01-01 BE E-Logservice COD REPORT_3333.xlsx to 2021-01-01 BE E-Logservice COD REPORT_3333.xlsx\n",
      "Saving 2021-01-01 BE E-Logservice COD REPORT_4444.xlsx to 2021-01-01 BE E-Logservice COD REPORT_4444.xlsx\n",
      "Saving 2021-01-01 DE E-Logservice COD REPORT_1111.xlsx to 2021-01-01 DE E-Logservice COD REPORT_1111.xlsx\n",
      "Saving 2021-01-01 DE E-Logservice COD REPORT_5555.xlsx to 2021-01-01 DE E-Logservice COD REPORT_5555.xlsx\n",
      "Saving 2021-01-01 NL E-Logservice COD REPORT_2222.xlsx to 2021-01-01 NL E-Logservice COD REPORT_2222.xlsx\n",
      "Saving BONIFICO AL 2021-01-01.xlsx to BONIFICO AL 2021-01-01.xlsx\n",
      "Saving payment-export-2021-01-01 1.xlsx to payment-export-2021-01-01 1.xlsx\n",
      "Saving payment-export-2021-01-01 2.xlsx to payment-export-2021-01-01 2.xlsx\n",
      "Saving PROSPEDITION - SLO COD REPORT 2021-01-01.xlsx to PROSPEDITION - SLO COD REPORT 2021-01-01.xlsx\n"
     ]
    }
   ],
   "source": [
    "from google.colab import files\n",
    "uploaded = files.upload()"
   ]
  },
  {
   "cell_type": "markdown",
   "id": "Bpqz-xOENmd9",
   "metadata": {
    "id": "Bpqz-xOENmd9"
   },
   "source": [
    "# Detection of reports"
   ]
  },
  {
   "cell_type": "code",
   "execution_count": null,
   "id": "0ec6f183",
   "metadata": {
    "colab": {
     "base_uri": "https://localhost:8080/"
    },
    "id": "0ec6f183",
    "outputId": "e7870186-3374-4e21-9fac-48806615ce1a"
   },
   "outputs": [
    {
     "data": {
      "text/plain": [
       "['.config',\n",
       " '.ipynb_checkpoints',\n",
       " 'PROSPEDITION - SLO COD REPORT 2021-01-01.xlsx',\n",
       " 'BONIFICO AL 2021-01-01.xlsx',\n",
       " '2021-01-01 BE E-Logservice COD REPORT_4444.xlsx',\n",
       " '2021-01-01 DE E-Logservice COD REPORT_1111.xlsx',\n",
       " '2021-01-01 DE E-Logservice COD REPORT_5555.xlsx',\n",
       " '2021-01-01 BE E-Logservice COD REPORT_3333.xlsx',\n",
       " 'payment-export-2021-01-01 2.xlsx',\n",
       " 'payment-export-2021-01-01 1.xlsx',\n",
       " '2021-01-01 NL E-Logservice COD REPORT_2222.xlsx',\n",
       " 'testgood.xlsx',\n",
       " 'sample_data']"
      ]
     },
     "execution_count": 27,
     "metadata": {},
     "output_type": "execute_result"
    }
   ],
   "source": [
    "path = r'/content'\n",
    "path2 = r\"\"\"/content/\"\"\"\n",
    "files = os.listdir(path)\n",
    "files"
   ]
  },
  {
   "cell_type": "code",
   "execution_count": null,
   "id": "923e5449",
   "metadata": {
    "colab": {
     "base_uri": "https://localhost:8080/"
    },
    "id": "923e5449",
    "outputId": "83c6b88d-a5cf-45b6-862f-891a3897f0b7"
   },
   "outputs": [
    {
     "data": {
      "text/plain": [
       "['PROSPEDITION - SLO COD REPORT 2021-01-01.xlsx',\n",
       " 'BONIFICO AL 2021-01-01.xlsx',\n",
       " '2021-01-01 BE E-Logservice COD REPORT_4444.xlsx',\n",
       " '2021-01-01 DE E-Logservice COD REPORT_1111.xlsx',\n",
       " '2021-01-01 DE E-Logservice COD REPORT_5555.xlsx',\n",
       " '2021-01-01 BE E-Logservice COD REPORT_3333.xlsx',\n",
       " 'payment-export-2021-01-01 2.xlsx',\n",
       " 'payment-export-2021-01-01 1.xlsx',\n",
       " '2021-01-01 NL E-Logservice COD REPORT_2222.xlsx',\n",
       " 'testgood.xlsx']"
      ]
     },
     "execution_count": 28,
     "metadata": {},
     "output_type": "execute_result"
    }
   ],
   "source": [
    "files_xls = [f for f in files if f[-3:] == 'xls' or f[-4:] == 'xlsx' or f[-3:] == 'TXT']\n",
    "files_xls"
   ]
  },
  {
   "cell_type": "markdown",
   "id": "DeC3JEm1N0Y8",
   "metadata": {
    "id": "DeC3JEm1N0Y8"
   },
   "source": [
    "# Creat DataFrame for all reports"
   ]
  },
  {
   "cell_type": "code",
   "execution_count": null,
   "id": "03e9a157",
   "metadata": {
    "id": "03e9a157"
   },
   "outputs": [],
   "source": [
    "df = pd.DataFrame()\n",
    "for f in files_xls:\n",
    "    dire = path2 + f\n",
    "    if \"export\" in f: \n",
    "        data = pd.read_excel(dire, header = 0)\n",
    "        data = data.drop([\"Channel\", \"Sender name\", \"Receiver name\", \"State\", \"Paid date\"], axis = 1, errors = 'ignore')\n",
    "        data = data.drop([\"#\", \"Shipping method\", \"Payment date\", \"Tracking number\"], axis = 1, errors = 'ignore')\n",
    "        data = data.rename({data.columns[0]: \"ACC\", data.columns[1]: \"ID\"},axis = 'columns')\n",
    "        data[\"nazwa\"] = (str(f)[:-5])\n",
    "        df = df.append(data)\n",
    "    if \"E-Logservice\" in f : \n",
    "        data = pd.read_excel(dire,header = 0)\n",
    "        data = data.drop([\"T.Order\", \"Tracking number\", \"Client's Name\", \"Client's Surname\", \"Market\"], axis = 1, errors = 'ignore')\n",
    "        data = data.rename({data.columns[0]: \"ID\", data.columns[1]: \"ACC\"},axis = 'columns')\n",
    "        data[\"nazwa\"] = (str(f)[:-5])\n",
    "        df = df.append(data)\n",
    "    elif \"BONIFICO\" in f:\n",
    "        data = pd.read_excel(dire,header = 10)\n",
    "        data = data.drop([\"DATA SP.\", \"PR\", \"ESTREMI ASSEGNO\", \"DESTINATARIO\", \"N. SP.\", \"S/M\"], axis = 1, errors = 'ignore')\n",
    "        data = data.iloc[1:-7, :]\n",
    "        data = data.rename({data.columns[0]: \"ACC\", data.columns[1]: \"ID\"},axis = 'columns')\n",
    "        data[\"nazwa\"] = (str(f)[:-5])\n",
    "        df = df.append(data)\n",
    "    elif \"WEEK\" in f:\n",
    "        data = pd.read_excel(dire,header = 2)\n",
    "        data = data.drop([\"HAWB\", \"ShipDate\", \"PayDate\", \"ConsName\", \"ConsAddr1\", \"Zip\", \"ConsTown\", \"Item\", \" PAYMENT WEEK \", \"Quantity\"], axis = 1, errors = 'ignore')\n",
    "        data = data.iloc[:-1,:]\n",
    "        data = data.rename({data.columns[0]: \"ID\", data.columns[1]: \"ACC\"},axis = 'columns')\n",
    "        data[\"nazwa\"] = (str(f)[:-4])\n",
    "        df = df.append(data)\n",
    "    elif \"SLO\" in f:\n",
    "        data = pd.read_excel(dire,header = 4)\n",
    "        data = data.drop([\"HAWB\", \"SHIP DATE\", \"CONS NAME\", \"CONS ADDR\", \"ZIP\", \"CONS TOWN\", \"PCS\", \"CODE\"], axis = 1, errors = 'ignore')\n",
    "        data = data.rename({data.columns[0]: \"ID\", data.columns[1]: \"ACC\"},axis = 'columns')\n",
    "        data[\"nazwa\"] = (str(f)[:-5])\n",
    "        df = df.append(data)   \n",
    "    elif \"CELERITAS\" in f :\n",
    "        data = pd.read_csv(dire, sep = \";\", header=None, encoding = 'latin-1')\n",
    "        data = data.rename({data.columns[0]: \"ACC\", data.columns[5]: \"ID\"},axis = 'columns')\n",
    "        data = data.drop(columns = [1,2,3,4])\n",
    "        data = data.iloc[:-1,:]\n",
    "        data[\"nazwa\"] = (str(f)[:-4])\n",
    "        data[\"ACC\"] = data[\"ACC\"].str.replace(\",\",\".\").astype(float)\n",
    "        df = df.append(data)\n"
   ]
  },
  {
   "cell_type": "markdown",
   "id": "dpxSeoVAOAzp",
   "metadata": {
    "id": "dpxSeoVAOAzp"
   },
   "source": [
    "# Exporting final summary report"
   ]
  },
  {
   "cell_type": "code",
   "execution_count": null,
   "id": "7bd2915c",
   "metadata": {
    "colab": {
     "base_uri": "https://localhost:8080/"
    },
    "id": "7bd2915c",
    "outputId": "4c55f065-04a3-4127-ec0d-9c2198a3413f"
   },
   "outputs": [
    {
     "name": "stderr",
     "output_type": "stream",
     "text": [
      "/usr/local/lib/python3.7/dist-packages/ipykernel_launcher.py:2: SettingWithCopyWarning: \n",
      "A value is trying to be set on a copy of a slice from a DataFrame.\n",
      "Try using .loc[row_indexer,col_indexer] = value instead\n",
      "\n",
      "See the caveats in the documentation: https://pandas.pydata.org/pandas-docs/stable/user_guide/indexing.html#returning-a-view-versus-a-copy\n",
      "  \n"
     ]
    }
   ],
   "source": [
    "df = df.dropna()\n",
    "df[\"ID\"] = df[\"ID\"].astype(int)\n",
    "df.to_excel('test.xlsx', index = False)"
   ]
  },
  {
   "cell_type": "markdown",
   "id": "RIbRzmNaOTta",
   "metadata": {
    "id": "RIbRzmNaOTta"
   },
   "source": [
    "# Sum per report"
   ]
  },
  {
   "cell_type": "code",
   "execution_count": null,
   "id": "cwCTL6l3BtTo",
   "metadata": {
    "colab": {
     "base_uri": "https://localhost:8080/"
    },
    "id": "cwCTL6l3BtTo",
    "outputId": "2cc4e915-fe83-4a9a-e661-82abe25bd6a3"
   },
   "outputs": [
    {
     "name": "stdout",
     "output_type": "stream",
     "text": [
      "                                                ACC\n",
      "nazwa                                              \n",
      "2021-01-01 BE E-Logservice COD REPORT_3333   3333.0\n",
      "2021-01-01 BE E-Logservice COD REPORT_4444   4444.0\n",
      "2021-01-01 DE E-Logservice COD REPORT_1111   1111.0\n",
      "2021-01-01 DE E-Logservice COD REPORT_5555   5555.0\n",
      "2021-01-01 NL E-Logservice COD REPORT_2222   2222.0\n",
      "BONIFICO AL 2021-01-01                      22222.0\n",
      "PROSPEDITION - SLO COD REPORT 2021-01-01     2345.0\n",
      "payment-export-2021-01-01 1                  2345.0\n",
      "payment-export-2021-01-01 2                  3333.0\n",
      "\n",
      " 46910.0\n"
     ]
    }
   ],
   "source": [
    "xyz = df.pivot_table(index = \"nazwa\", values = \"ACC\", aggfunc = \"sum\")\n",
    "print(xyz)\n",
    "print(\"\\n\", xyz[\"ACC\"].sum())"
   ]
  }
 ],
 "metadata": {
  "colab": {
   "collapsed_sections": [],
   "name": "Kopia notatnika Ver 1.0.ipynb",
   "provenance": []
  },
  "kernelspec": {
   "display_name": "Python 3",
   "language": "python",
   "name": "python3"
  },
  "language_info": {
   "codemirror_mode": {
    "name": "ipython",
    "version": 3
   },
   "file_extension": ".py",
   "mimetype": "text/x-python",
   "name": "python",
   "nbconvert_exporter": "python",
   "pygments_lexer": "ipython3",
   "version": "3.8.8"
  }
 },
 "nbformat": 4,
 "nbformat_minor": 5
}
